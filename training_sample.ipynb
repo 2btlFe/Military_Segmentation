{
 "cells": [
  {
   "cell_type": "code",
   "execution_count": null,
   "metadata": {},
   "outputs": [],
   "source": []
  }
 ],
 "metadata": {
  "kernelspec": {
   "display_name": "Python 3.9.13 ('pcc')",
   "language": "python",
   "name": "python3"
  },
  "language_info": {
   "name": "python",
   "version": "3.9.13"
  },
  "orig_nbformat": 4,
  "vscode": {
   "interpreter": {
    "hash": "ef1d4cdf562cc6e627487cf036777082fc88a8249f57bc944ee9b50a9e7d8b9e"
   }
  }
 },
 "nbformat": 4,
 "nbformat_minor": 2
}
