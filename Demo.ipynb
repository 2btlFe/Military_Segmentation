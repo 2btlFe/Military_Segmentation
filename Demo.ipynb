{
 "cells": [
  {
   "cell_type": "markdown",
   "metadata": {},
   "source": [
    "# OpenEarhMap Semantinc Segmentation\n",
    "\n",
    "original implementation found at https://github.com/bao18/open_earth_map/blob/main/Demo.ipynb\n",
    "\n",
    "---"
   ]
  },
  {
   "cell_type": "markdown",
   "metadata": {},
   "source": [
    "### Requirements"
   ]
  },
  {
   "cell_type": "code",
   "execution_count": 1,
   "metadata": {},
   "outputs": [],
   "source": [
    "!git clone https://github.com/bao18/open_earth_map.git"
   ]
  },
  {
   "cell_type": "code",
   "execution_count": 2,
   "metadata": {},
   "outputs": [],
   "source": [
    "!pip install rasterio"
   ]
  },
  {
   "cell_type": "code",
   "execution_count": null,
   "metadata": {},
   "outputs": [],
   "source": [
    "import os\n",
    "import gdown\n",
    "import zipfile\n",
    "\n",
    "url = \"https://drive.google.com/uc?id=1PQvlAg3bdQQvlAq1RtQ-_boax-WObSU4\"\n",
    "output = \"OpenEathMap_Mini.zip\"\n",
    "gdown.download(url, output, quiet=False)\n",
    "\n",
    "with zipfile.ZipFile(output, 'r') as zip_ref:\n",
    "    zip_ref.extractall(\"data\")\n",
    "os.remove(output)"
   ]
  },
  {
   "cell_type": "markdown",
   "metadata": {},
   "source": [
    "### Imports\n",
    "---"
   ]
  },
  {
   "cell_type": "code",
   "execution_count": 10,
   "metadata": {},
   "outputs": [],
   "source": [
    "import time\n",
    "import warnings\n",
    "import numpy as np\n",
    "import torch\n",
    "import open_earth_map.oem as oem\n",
    "import torchvision\n",
    "from pathlib import Path\n",
    "import matplotlib.pyplot as plt\n",
    "\n",
    "warnings.filterwarnings(\"ignore\")\n",
    "os.environ['CUDA_VISIBLE_DEVICES'] = '0'"
   ]
  },
  {
   "cell_type": "markdown",
   "metadata": {},
   "source": [
    "### Defines main parameters"
   ]
  },
  {
   "cell_type": "code",
   "execution_count": 11,
   "metadata": {},
   "outputs": [],
   "source": [
    "# Path to the OpenEarthMap directory\n",
    "OEM_DATA_DIR = \"OpenEarthMap_Mini/\"\n",
    "\n",
    "# Training and validation file list\n",
    "TRAIN_LIST = os.path.join(OEM_DATA_DIR, \"train.txt\")\n",
    "VAL_LIST = os.path.join(OEM_DATA_DIR, \"val.txt\")\n",
    "\n",
    "IMG_SIZE = 512\n",
    "N_CLASSES = 9\n",
    "LR = 0.0001\n",
    "BATCH_SIZE = 4\n",
    "NUM_EPOCHS = 10\n",
    "DEVICE = \"cuda\"\n",
    "OUTPUT_DIR = \"outputs\"\n",
    "os.makedirs(OUTPUT_DIR, exist_ok=True)"
   ]
  },
  {
   "cell_type": "markdown",
   "metadata": {},
   "source": [
    "### Prepares training and validation file lists."
   ]
  },
  {
   "cell_type": "code",
   "execution_count": 3,
   "metadata": {},
   "outputs": [],
   "source": [
    "img_paths = [f for f in Path(OEM_DATA_DIR).rglob(\"*.tif\") if \"/images/\" in str(f)]\n",
    "train_fns = [str(f) for f in img_paths if f.name in np.loadtxt(TRAIN_LIST, dtype=str)]\n",
    "val_fns = [str(f) for f in img_paths if f.name in np.loadtxt(VAL_LIST, dtype=str)]\n",
    "\n",
    "print(\"Total samples      :\", len(img_paths))\n",
    "print(\"Training samples   :\", len(train_fns))\n",
    "print(\"Validation samples :\", len(val_fns))"
   ]
  },
  {
   "cell_type": "markdown",
   "metadata": {},
   "source": [
    "### Prepares training and validation augmentations."
   ]
  },
  {
   "cell_type": "code",
   "execution_count": 5,
   "metadata": {},
   "outputs": [],
   "source": [
    "train_augm = torchvision.transforms.Compose(\n",
    "    [\n",
    "        oem.transforms.Rotate(),\n",
    "        oem.transforms.Crop(IMG_SIZE),\n",
    "    ],\n",
    ")\n",
    "\n",
    "val_augm = torchvision.transforms.Compose(\n",
    "    [\n",
    "        oem.transforms.Resize(IMG_SIZE),\n",
    "    ],\n",
    ")"
   ]
  },
  {
   "cell_type": "markdown",
   "metadata": {},
   "source": [
    "### Defines training and validation dataloaders"
   ]
  },
  {
   "cell_type": "code",
   "execution_count": null,
   "metadata": {},
   "outputs": [],
   "source": [
    "train_data = oem.dataset.OpenEarthMapDataset(\n",
    "    train_fns,\n",
    "    n_classes=N_CLASSES,\n",
    "    augm=train_augm,\n",
    ")\n",
    "\n",
    "val_data = oem.dataset.OpenEarthMapDataset(\n",
    "    val_fns,\n",
    "    n_classes=N_CLASSES,\n",
    "    augm=val_augm,\n",
    ")"
   ]
  },
  {
   "cell_type": "code",
   "execution_count": null,
   "metadata": {},
   "outputs": [],
   "source": [
    "fig, axs = plt.subplots(2, 5, figsize=(5*1.5, 2*1.5))\n",
    "fig.subplots_adjust(top=1, bottom=0, left=0, right=1, hspace=0.01, wspace=0.01)\n",
    "\n",
    "IDX = 1\n",
    "for i in range(5):\n",
    "    img, msk, fn = train_data[IDX]\n",
    "\n",
    "    img = np.moveaxis(img.numpy(), 0, -1)\n",
    "    msk = oem.utils.make_rgb(np.argmax(msk.numpy(), axis=0))\n",
    "\n",
    "    axs[0, i].imshow(img)\n",
    "    axs[0, i].axis(\"off\")\n",
    "    axs[1, i].imshow(msk)\n",
    "    axs[1, i].axis(\"off\")\n",
    "\n",
    "plt.show()"
   ]
  },
  {
   "cell_type": "code",
   "execution_count": null,
   "metadata": {},
   "outputs": [],
   "source": [
    "train_data_loader = torch.utils.data.DataLoader(\n",
    "    train_data,\n",
    "    batch_size=BATCH_SIZE,\n",
    "    num_workers=10,\n",
    "    shuffle=True,\n",
    "    drop_last=True,\n",
    ")\n",
    "val_data_loader = torch.utils.data.DataLoader(\n",
    "    val_data,\n",
    "    batch_size=BATCH_SIZE,\n",
    "    num_workers=10,\n",
    "    shuffle=False,\n",
    ")"
   ]
  },
  {
   "cell_type": "markdown",
   "metadata": {},
   "source": [
    "### Defines the network architecture, optimizer, and criterion"
   ]
  },
  {
   "cell_type": "code",
   "execution_count": 5,
   "metadata": {},
   "outputs": [
    {
     "name": "stdout",
     "output_type": "stream",
     "text": [
      "Loaded model:model.pth (Epoch=19, Score=0.185)\n"
     ]
    }
   ],
   "source": [
    "network = oem.networks.UNet(in_channels=3, n_classes=N_CLASSES)\n",
    "optimizer = torch.optim.Adam(network.parameters(), lr=LR)\n",
    "criterion = oem.losses.JaccardLoss()"
   ]
  },
  {
   "cell_type": "markdown",
   "metadata": {},
   "source": [
    "### Trains and validates the network"
   ]
  },
  {
   "cell_type": "code",
   "execution_count": 6,
   "metadata": {},
   "outputs": [],
   "source": [
    "start = time.time()\n",
    "\n",
    "max_score = 0\n",
    "for epoch in range(NUM_EPOCHS):\n",
    "    print(f\"\\nEpoch: {epoch + 1}\")\n",
    "\n",
    "    train_logs = oem.runners.train_epoch(\n",
    "        model=network,\n",
    "        optimizer=optimizer,\n",
    "        criterion=criterion,\n",
    "        dataloader=train_data_loader,\n",
    "        device=DEVICE,\n",
    "    )\n",
    "\n",
    "    valid_logs = oem.runners.valid_epoch(\n",
    "        model=network,\n",
    "        criterion=criterion,\n",
    "        dataloader=val_data_loader,\n",
    "        device=DEVICE,\n",
    "    )\n",
    "    epoch_score = valid_logs[\"Score\"]\n",
    "    if max_score < epoch_score:\n",
    "        max_score = epoch_score\n",
    "        oem.utils.save_model(\n",
    "            model=network,\n",
    "            epoch=epoch,\n",
    "            best_score=max_score,\n",
    "            model_name=\"model.pth\",\n",
    "            output_dir=OUTPUT_DIR,\n",
    "        )\n",
    "\n",
    "print(\"Elapsed time: {:.3f} min\".format((time.time() - start) / 60.0))"
   ]
  },
  {
   "cell_type": "markdown",
   "metadata": {},
   "source": [
    "# Testing "
   ]
  },
  {
   "cell_type": "markdown",
   "metadata": {},
   "source": [
    "### Prepares testing files"
   ]
  },
  {
   "cell_type": "code",
   "execution_count": 10,
   "metadata": {},
   "outputs": [],
   "source": [
    "TEST_LIST = os.path.join(OEM_DATA_DIR, \"test.txt\")\n",
    "\n",
    "img_paths = [f for f in Path(OEM_DATA_DIR).rglob(\"*.tif\") if \"/images/\" in str(f)]\n",
    "test_fns = [str(f) for f in img_paths if f.name in np.loadtxt(TEST_LIST, dtype=str)]\n",
    "\n",
    "print(\"Total samples   :\", len(img_paths))\n",
    "print(\"Testing samples :\", len(test_fns))"
   ]
  },
  {
   "cell_type": "markdown",
   "metadata": {},
   "source": [
    "### Defines test dataloader"
   ]
  },
  {
   "cell_type": "code",
   "execution_count": 13,
   "metadata": {},
   "outputs": [],
   "source": [
    "test_data = oem.dataset.OpenEarthMapDataset(test_fns, n_classes=N_CLASSES, augm=None)"
   ]
  },
  {
   "cell_type": "markdown",
   "metadata": {},
   "source": [
    "### Loads trained network"
   ]
  },
  {
   "cell_type": "code",
   "execution_count": null,
   "metadata": {},
   "outputs": [],
   "source": [
    "network = oem.networks.UNet(in_channels=3, n_classes=N_CLASSES)\n",
    "network = oem.utils.load_checkpoint(network, model_name=\"model.pth\", model_dir=\"outputs\")"
   ]
  },
  {
   "cell_type": "markdown",
   "metadata": {},
   "source": [
    "### Makes predictions"
   ]
  },
  {
   "cell_type": "code",
   "execution_count": null,
   "metadata": {},
   "outputs": [],
   "source": [
    "NPLOT = 6\n",
    "idxs = np.argsort(np.random.rand(len(test_fns)))[:NPLOT]\n",
    "\n",
    "fig, axs = plt.subplots(3, NPLOT, figsize=(NPLOT*1.5, 3*1.5))\n",
    "fig.subplots_adjust(top=1, bottom=0, left=0, right=1, hspace=0.01, wspace=0.01)\n",
    "\n",
    "network.eval().to(DEVICE)\n",
    "for i, idx in enumerate(idxs):\n",
    "    img, msk, fn = test_data[idx]\n",
    "\n",
    "    with torch.no_grad():\n",
    "        prd = network(img.unsqueeze(0).to(DEVICE)).squeeze(0).cpu()\n",
    "\n",
    "    img = np.moveaxis(img.numpy(), 0, -1)\n",
    "    msk = oem.utils.make_rgb(np.argmax(msk.numpy(), axis=0))\n",
    "    prd = oem.utils.make_rgb(np.argmax(prd.numpy(), axis=0))\n",
    "\n",
    "    axs[0, i].imshow(img)\n",
    "    axs[0, i].axis(\"off\")\n",
    "    axs[1, i].imshow(msk)\n",
    "    axs[1, i].axis(\"off\")\n",
    "    axs[2, i].imshow(prd)\n",
    "    axs[2, i].axis(\"off\")\n",
    "plt.show()"
   ]
  }
 ],
 "metadata": {
  "kernelspec": {
   "display_name": "Python 3.9.13 ('pcc')",
   "language": "python",
   "name": "python3"
  },
  "language_info": {
   "codemirror_mode": {
    "name": "ipython",
    "version": 3
   },
   "file_extension": ".py",
   "mimetype": "text/x-python",
   "name": "python",
   "nbconvert_exporter": "python",
   "pygments_lexer": "ipython3",
   "version": "3.9.13"
  },
  "orig_nbformat": 4,
  "vscode": {
   "interpreter": {
    "hash": "b8adc929056e836a7a3b0e312c82a4cd60bdf00e8c79486eca7d6ecc652c519a"
   }
  }
 },
 "nbformat": 4,
 "nbformat_minor": 2
}
