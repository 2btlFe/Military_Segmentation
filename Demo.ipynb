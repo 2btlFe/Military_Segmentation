{
 "cells": [
  {
   "cell_type": "markdown",
   "metadata": {},
   "source": [
    "# OpenEarhMap Semantinc Segmentation\n",
    "\n",
    "original implementation found at https://github.com/bao18/open_earth_map/blob/main/Demo.ipynb\n",
    "\n",
    "---"
   ]
  },
  {
   "cell_type": "markdown",
   "metadata": {},
   "source": [
    "### Requirements"
   ]
  },
  {
   "cell_type": "code",
   "execution_count": 15,
   "metadata": {},
   "outputs": [
    {
     "name": "stdout",
     "output_type": "stream",
     "text": [
      "Cloning into 'open_earth_map'...\n",
      "remote: Enumerating objects: 188, done.\u001b[K\n",
      "remote: Counting objects: 100% (188/188), done.\u001b[K\n",
      "remote: Compressing objects: 100% (132/132), done.\u001b[K\n",
      "remote: Total 188 (delta 93), reused 137 (delta 51), pack-reused 0\u001b[K\n",
      "Receiving objects: 100% (188/188), 4.43 MiB | 21.09 MiB/s, done.\n",
      "Resolving deltas: 100% (93/93), done.\n"
     ]
    }
   ],
   "source": [
    "!git clone https://github.com/bao18/open_earth_map.git"
   ]
  },
  {
   "cell_type": "code",
   "execution_count": 16,
   "metadata": {},
   "outputs": [
    {
     "name": "stdout",
     "output_type": "stream",
     "text": [
      "Requirement already satisfied: rasterio in /home/bruno/apps/miniconda3/envs/pcc/lib/python3.9/site-packages (1.3.3)\n",
      "Requirement already satisfied: affine in /home/bruno/apps/miniconda3/envs/pcc/lib/python3.9/site-packages (from rasterio) (2.3.1)\n",
      "Requirement already satisfied: cligj>=0.5 in /home/bruno/apps/miniconda3/envs/pcc/lib/python3.9/site-packages (from rasterio) (0.7.2)\n",
      "Requirement already satisfied: click-plugins in /home/bruno/apps/miniconda3/envs/pcc/lib/python3.9/site-packages (from rasterio) (1.1.1)\n",
      "Requirement already satisfied: setuptools in /home/bruno/apps/miniconda3/lib/python3.9/site-packages (from rasterio) (61.2.0)\n",
      "Requirement already satisfied: click>=4.0 in /home/bruno/apps/miniconda3/envs/pcc/lib/python3.9/site-packages (from rasterio) (8.1.3)\n",
      "Requirement already satisfied: attrs in /home/bruno/apps/miniconda3/envs/pcc/lib/python3.9/site-packages (from rasterio) (22.1.0)\n",
      "Requirement already satisfied: snuggs>=1.4.1 in /home/bruno/apps/miniconda3/envs/pcc/lib/python3.9/site-packages (from rasterio) (1.4.7)\n",
      "Requirement already satisfied: numpy>=1.18 in /home/bruno/apps/miniconda3/envs/pcc/lib/python3.9/site-packages (from rasterio) (1.23.3)\n",
      "Requirement already satisfied: certifi in /home/bruno/apps/miniconda3/lib/python3.9/site-packages (from rasterio) (2021.10.8)\n",
      "Requirement already satisfied: pyparsing>=2.1.6 in /home/bruno/apps/miniconda3/envs/pcc/lib/python3.9/site-packages (from snuggs>=1.4.1->rasterio) (3.0.9)\n"
     ]
    }
   ],
   "source": [
    "!pip install rasterio"
   ]
  },
  {
   "cell_type": "code",
   "execution_count": 17,
   "metadata": {},
   "outputs": [
    {
     "name": "stdout",
     "output_type": "stream",
     "text": [
      "Access denied with the following error:\n"
     ]
    },
    {
     "name": "stderr",
     "output_type": "stream",
     "text": [
      "\n",
      " \tCannot retrieve the public link of the file. You may need to change\n",
      "\tthe permission to 'Anyone with the link', or have had many accesses. \n",
      "\n",
      "You may still be able to access the file from the browser:\n",
      "\n",
      "\t https://drive.google.com/uc?id=1PQvlAg3bdQQvlAq1RtQ-_boax-WObSU4 \n",
      "\n"
     ]
    },
    {
     "ename": "FileNotFoundError",
     "evalue": "[Errno 2] No such file or directory: 'OpenEathMap_Mini.zip'",
     "output_type": "error",
     "traceback": [
      "\u001b[0;31m---------------------------------------------------------------------------\u001b[0m",
      "\u001b[0;31mFileNotFoundError\u001b[0m                         Traceback (most recent call last)",
      "\u001b[1;32m/home/bruno/riken_openearthmap/open_earth_map/Demo.ipynb Cell 5\u001b[0m in \u001b[0;36m<cell line: 9>\u001b[0;34m()\u001b[0m\n\u001b[1;32m      <a href='vscode-notebook-cell://ssh-remote%2Balien/home/bruno/riken_openearthmap/open_earth_map/Demo.ipynb#W4sdnNjb2RlLXJlbW90ZQ%3D%3D?line=5'>6</a>\u001b[0m output \u001b[39m=\u001b[39m \u001b[39m\"\u001b[39m\u001b[39mOpenEathMap_Mini.zip\u001b[39m\u001b[39m\"\u001b[39m\n\u001b[1;32m      <a href='vscode-notebook-cell://ssh-remote%2Balien/home/bruno/riken_openearthmap/open_earth_map/Demo.ipynb#W4sdnNjb2RlLXJlbW90ZQ%3D%3D?line=6'>7</a>\u001b[0m gdown\u001b[39m.\u001b[39mdownload(url, output, quiet\u001b[39m=\u001b[39m\u001b[39mFalse\u001b[39;00m)\n\u001b[0;32m----> <a href='vscode-notebook-cell://ssh-remote%2Balien/home/bruno/riken_openearthmap/open_earth_map/Demo.ipynb#W4sdnNjb2RlLXJlbW90ZQ%3D%3D?line=8'>9</a>\u001b[0m \u001b[39mwith\u001b[39;00m zipfile\u001b[39m.\u001b[39;49mZipFile(output, \u001b[39m'\u001b[39;49m\u001b[39mr\u001b[39;49m\u001b[39m'\u001b[39;49m) \u001b[39mas\u001b[39;00m zip_ref:\n\u001b[1;32m     <a href='vscode-notebook-cell://ssh-remote%2Balien/home/bruno/riken_openearthmap/open_earth_map/Demo.ipynb#W4sdnNjb2RlLXJlbW90ZQ%3D%3D?line=9'>10</a>\u001b[0m     zip_ref\u001b[39m.\u001b[39mextractall(\u001b[39m\"\u001b[39m\u001b[39mdata\u001b[39m\u001b[39m\"\u001b[39m)\n\u001b[1;32m     <a href='vscode-notebook-cell://ssh-remote%2Balien/home/bruno/riken_openearthmap/open_earth_map/Demo.ipynb#W4sdnNjb2RlLXJlbW90ZQ%3D%3D?line=10'>11</a>\u001b[0m os\u001b[39m.\u001b[39mremove(output)\n",
      "File \u001b[0;32m~/apps/miniconda3/envs/pcc/lib/python3.9/zipfile.py:1248\u001b[0m, in \u001b[0;36mZipFile.__init__\u001b[0;34m(self, file, mode, compression, allowZip64, compresslevel, strict_timestamps)\u001b[0m\n\u001b[1;32m   1246\u001b[0m \u001b[39mwhile\u001b[39;00m \u001b[39mTrue\u001b[39;00m:\n\u001b[1;32m   1247\u001b[0m     \u001b[39mtry\u001b[39;00m:\n\u001b[0;32m-> 1248\u001b[0m         \u001b[39mself\u001b[39m\u001b[39m.\u001b[39mfp \u001b[39m=\u001b[39m io\u001b[39m.\u001b[39;49mopen(file, filemode)\n\u001b[1;32m   1249\u001b[0m     \u001b[39mexcept\u001b[39;00m \u001b[39mOSError\u001b[39;00m:\n\u001b[1;32m   1250\u001b[0m         \u001b[39mif\u001b[39;00m filemode \u001b[39min\u001b[39;00m modeDict:\n",
      "\u001b[0;31mFileNotFoundError\u001b[0m: [Errno 2] No such file or directory: 'OpenEathMap_Mini.zip'"
     ]
    }
   ],
   "source": [
    "import os\n",
    "import gdown\n",
    "import zipfile\n",
    "\n",
    "url = \"https://drive.google.com/uc?id=1AIIPx9t1JLi5bLhe9pxyiewyYu8LXBRv\"\n",
    "output = \"OpenEathMap_Mini.zip\"\n",
    "gdown.download(url, output, quiet=False)\n",
    "\n",
    "with zipfile.ZipFile(output, 'r') as fzip:\n",
    "    fzip.extractall()\n",
    "os.remove(output)"
   ]
  },
  {
   "cell_type": "markdown",
   "metadata": {},
   "source": [
    "### Imports\n",
    "---"
   ]
  },
  {
   "cell_type": "code",
   "execution_count": 10,
   "metadata": {},
   "outputs": [],
   "source": [
    "import time\n",
    "import warnings\n",
    "import numpy as np\n",
    "import torch\n",
    "import open_earth_map.oem as oem\n",
    "import torchvision\n",
    "from pathlib import Path\n",
    "import matplotlib.pyplot as plt\n",
    "\n",
    "warnings.filterwarnings(\"ignore\")\n",
    "os.environ['CUDA_VISIBLE_DEVICES'] = '0'"
   ]
  },
  {
   "cell_type": "markdown",
   "metadata": {},
   "source": [
    "### Defines main parameters"
   ]
  },
  {
   "cell_type": "code",
   "execution_count": 11,
   "metadata": {},
   "outputs": [],
   "source": [
    "# Path to the OpenEarthMap directory\n",
    "OEM_DATA_DIR = \"OpenEarthMap_Mini/\"\n",
    "\n",
    "# Training and validation file list\n",
    "TRAIN_LIST = os.path.join(OEM_DATA_DIR, \"train.txt\")\n",
    "VAL_LIST = os.path.join(OEM_DATA_DIR, \"val.txt\")\n",
    "\n",
    "IMG_SIZE = 512\n",
    "N_CLASSES = 9\n",
    "LR = 0.0001\n",
    "BATCH_SIZE = 4\n",
    "NUM_EPOCHS = 10\n",
    "DEVICE = \"cuda\"\n",
    "OUTPUT_DIR = \"outputs\"\n",
    "os.makedirs(OUTPUT_DIR, exist_ok=True)"
   ]
  },
  {
   "cell_type": "markdown",
   "metadata": {},
   "source": [
    "### Prepares training and validation file lists."
   ]
  },
  {
   "cell_type": "code",
   "execution_count": 3,
   "metadata": {},
   "outputs": [],
   "source": [
    "img_paths = [f for f in Path(OEM_DATA_DIR).rglob(\"*.tif\") if \"/images/\" in str(f)]\n",
    "train_fns = [str(f) for f in img_paths if f.name in np.loadtxt(TRAIN_LIST, dtype=str)]\n",
    "val_fns = [str(f) for f in img_paths if f.name in np.loadtxt(VAL_LIST, dtype=str)]\n",
    "\n",
    "print(\"Total samples      :\", len(img_paths))\n",
    "print(\"Training samples   :\", len(train_fns))\n",
    "print(\"Validation samples :\", len(val_fns))"
   ]
  },
  {
   "cell_type": "markdown",
   "metadata": {},
   "source": [
    "### Prepares training and validation augmentations."
   ]
  },
  {
   "cell_type": "code",
   "execution_count": 5,
   "metadata": {},
   "outputs": [],
   "source": [
    "train_augm = torchvision.transforms.Compose(\n",
    "    [\n",
    "        oem.transforms.Rotate(),\n",
    "        oem.transforms.Crop(IMG_SIZE),\n",
    "    ],\n",
    ")\n",
    "\n",
    "val_augm = torchvision.transforms.Compose(\n",
    "    [\n",
    "        oem.transforms.Resize(IMG_SIZE),\n",
    "    ],\n",
    ")"
   ]
  },
  {
   "cell_type": "markdown",
   "metadata": {},
   "source": [
    "### Defines training and validation dataloaders"
   ]
  },
  {
   "cell_type": "code",
   "execution_count": null,
   "metadata": {},
   "outputs": [],
   "source": [
    "train_data = oem.dataset.OpenEarthMapDataset(\n",
    "    train_fns,\n",
    "    n_classes=N_CLASSES,\n",
    "    augm=train_augm,\n",
    ")\n",
    "\n",
    "val_data = oem.dataset.OpenEarthMapDataset(\n",
    "    val_fns,\n",
    "    n_classes=N_CLASSES,\n",
    "    augm=val_augm,\n",
    ")"
   ]
  },
  {
   "cell_type": "code",
   "execution_count": null,
   "metadata": {},
   "outputs": [],
   "source": [
    "fig, axs = plt.subplots(2, 5, figsize=(5*1.5, 2*1.5))\n",
    "fig.subplots_adjust(top=1, bottom=0, left=0, right=1, hspace=0.01, wspace=0.01)\n",
    "\n",
    "IDX = 1\n",
    "for i in range(5):\n",
    "    img, msk, fn = train_data[IDX]\n",
    "\n",
    "    img = np.moveaxis(img.numpy(), 0, -1)\n",
    "    msk = oem.utils.make_rgb(np.argmax(msk.numpy(), axis=0))\n",
    "\n",
    "    axs[0, i].imshow(img)\n",
    "    axs[0, i].axis(\"off\")\n",
    "    axs[1, i].imshow(msk)\n",
    "    axs[1, i].axis(\"off\")\n",
    "\n",
    "plt.show()"
   ]
  },
  {
   "cell_type": "code",
   "execution_count": null,
   "metadata": {},
   "outputs": [],
   "source": [
    "train_data_loader = torch.utils.data.DataLoader(\n",
    "    train_data,\n",
    "    batch_size=BATCH_SIZE,\n",
    "    num_workers=10,\n",
    "    shuffle=True,\n",
    "    drop_last=True,\n",
    ")\n",
    "val_data_loader = torch.utils.data.DataLoader(\n",
    "    val_data,\n",
    "    batch_size=BATCH_SIZE,\n",
    "    num_workers=10,\n",
    "    shuffle=False,\n",
    ")"
   ]
  },
  {
   "cell_type": "markdown",
   "metadata": {},
   "source": [
    "### Defines the network architecture, optimizer, and criterion"
   ]
  },
  {
   "cell_type": "code",
   "execution_count": 5,
   "metadata": {},
   "outputs": [
    {
     "name": "stdout",
     "output_type": "stream",
     "text": [
      "Loaded model:model.pth (Epoch=19, Score=0.185)\n"
     ]
    }
   ],
   "source": [
    "network = oem.networks.UNet(in_channels=3, n_classes=N_CLASSES)\n",
    "optimizer = torch.optim.Adam(network.parameters(), lr=LR)\n",
    "criterion = oem.losses.JaccardLoss()"
   ]
  },
  {
   "cell_type": "markdown",
   "metadata": {},
   "source": [
    "### Trains and validates the network"
   ]
  },
  {
   "cell_type": "code",
   "execution_count": 6,
   "metadata": {},
   "outputs": [],
   "source": [
    "start = time.time()\n",
    "\n",
    "max_score = 0\n",
    "for epoch in range(NUM_EPOCHS):\n",
    "    print(f\"\\nEpoch: {epoch + 1}\")\n",
    "\n",
    "    train_logs = oem.runners.train_epoch(\n",
    "        model=network,\n",
    "        optimizer=optimizer,\n",
    "        criterion=criterion,\n",
    "        dataloader=train_data_loader,\n",
    "        device=DEVICE,\n",
    "    )\n",
    "\n",
    "    valid_logs = oem.runners.valid_epoch(\n",
    "        model=network,\n",
    "        criterion=criterion,\n",
    "        dataloader=val_data_loader,\n",
    "        device=DEVICE,\n",
    "    )\n",
    "    epoch_score = valid_logs[\"Score\"]\n",
    "    if max_score < epoch_score:\n",
    "        max_score = epoch_score\n",
    "        oem.utils.save_model(\n",
    "            model=network,\n",
    "            epoch=epoch,\n",
    "            best_score=max_score,\n",
    "            model_name=\"model.pth\",\n",
    "            output_dir=OUTPUT_DIR,\n",
    "        )\n",
    "\n",
    "print(\"Elapsed time: {:.3f} min\".format((time.time() - start) / 60.0))"
   ]
  },
  {
   "cell_type": "markdown",
   "metadata": {},
   "source": [
    "# Testing "
   ]
  },
  {
   "cell_type": "markdown",
   "metadata": {},
   "source": [
    "### Prepares testing files"
   ]
  },
  {
   "cell_type": "code",
   "execution_count": 10,
   "metadata": {},
   "outputs": [],
   "source": [
    "TEST_LIST = os.path.join(OEM_DATA_DIR, \"test.txt\")\n",
    "\n",
    "img_paths = [f for f in Path(OEM_DATA_DIR).rglob(\"*.tif\") if \"/images/\" in str(f)]\n",
    "test_fns = [str(f) for f in img_paths if f.name in np.loadtxt(TEST_LIST, dtype=str)]\n",
    "\n",
    "print(\"Total samples   :\", len(img_paths))\n",
    "print(\"Testing samples :\", len(test_fns))"
   ]
  },
  {
   "cell_type": "markdown",
   "metadata": {},
   "source": [
    "### Defines test dataloader"
   ]
  },
  {
   "cell_type": "code",
   "execution_count": 13,
   "metadata": {},
   "outputs": [],
   "source": [
    "test_data = oem.dataset.OpenEarthMapDataset(test_fns, n_classes=N_CLASSES, augm=None)"
   ]
  },
  {
   "cell_type": "markdown",
   "metadata": {},
   "source": [
    "### Loads trained network"
   ]
  },
  {
   "cell_type": "code",
   "execution_count": null,
   "metadata": {},
   "outputs": [],
   "source": [
    "network = oem.networks.UNet(in_channels=3, n_classes=N_CLASSES)\n",
    "network = oem.utils.load_checkpoint(network, model_name=\"model.pth\", model_dir=\"outputs\")"
   ]
  },
  {
   "cell_type": "markdown",
   "metadata": {},
   "source": [
    "### Makes predictions"
   ]
  },
  {
   "cell_type": "code",
   "execution_count": null,
   "metadata": {},
   "outputs": [],
   "source": [
    "NPLOT = 6\n",
    "idxs = np.argsort(np.random.rand(len(test_fns)))[:NPLOT]\n",
    "\n",
    "fig, axs = plt.subplots(3, NPLOT, figsize=(NPLOT*1.5, 3*1.5))\n",
    "fig.subplots_adjust(top=1, bottom=0, left=0, right=1, hspace=0.01, wspace=0.01)\n",
    "\n",
    "network.eval().to(DEVICE)\n",
    "for i, idx in enumerate(idxs):\n",
    "    img, msk, fn = test_data[idx]\n",
    "\n",
    "    with torch.no_grad():\n",
    "        prd = network(img.unsqueeze(0).to(DEVICE)).squeeze(0).cpu()\n",
    "\n",
    "    img = np.moveaxis(img.numpy(), 0, -1)\n",
    "    msk = oem.utils.make_rgb(np.argmax(msk.numpy(), axis=0))\n",
    "    prd = oem.utils.make_rgb(np.argmax(prd.numpy(), axis=0))\n",
    "\n",
    "    axs[0, i].imshow(img)\n",
    "    axs[0, i].axis(\"off\")\n",
    "    axs[1, i].imshow(msk)\n",
    "    axs[1, i].axis(\"off\")\n",
    "    axs[2, i].imshow(prd)\n",
    "    axs[2, i].axis(\"off\")\n",
    "plt.show()"
   ]
  }
 ],
 "metadata": {
  "kernelspec": {
   "display_name": "Python 3.9.13 ('pcc')",
   "language": "python",
   "name": "python3"
  },
  "language_info": {
   "codemirror_mode": {
    "name": "ipython",
    "version": 3
   },
   "file_extension": ".py",
   "mimetype": "text/x-python",
   "name": "python",
   "nbconvert_exporter": "python",
   "pygments_lexer": "ipython3",
   "version": "3.9.13"
  },
  "orig_nbformat": 4,
  "vscode": {
   "interpreter": {
    "hash": "b8adc929056e836a7a3b0e312c82a4cd60bdf00e8c79486eca7d6ecc652c519a"
   }
  }
 },
 "nbformat": 4,
 "nbformat_minor": 2
}
